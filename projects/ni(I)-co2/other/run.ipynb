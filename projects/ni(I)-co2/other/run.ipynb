{
 "cells": [
  {
   "cell_type": "markdown",
   "id": "593e9b01",
   "metadata": {},
   "source": [
    "# Clustering on External Ligand Databases\n",
    "\n",
    "This notebook applies the clustering workflow to two published ligand datasets, both of which describe ligand properties in a general (non–problem-specific) context:\n",
    "\n",
    "- **Fey (LKB‑PP):** J. Jover, N. Fey, J. N. Harvey, G. C. Lloyd-Jones, A. G. Orpen, G. J. J. Owen-Smith, P. Murray, D. R. J. Hose, R. Osborne, M. Purdie, *Organometallics* **2012**, *31*, 5302–5306.  \n",
    "- **Sigman:** J. J. Dotson, L. van Dijk, J. C. Timmerman, S. Grosslight, R. C. Walroth, F. Gosselin, K. Püntener, K. A. Mack, M. S. Sigman, *J. Am. Chem. Soc.* **2023**, *145*, 110–121.\n",
    "\n",
    "For each dataset, clustering is performed both **with** and **without** feature selection to assess the extent to which general descriptors can differentiate ligands based on their experimentally observed speciation behavior.\n"
   ]
  },
  {
   "cell_type": "markdown",
   "id": "cfef9120",
   "metadata": {},
   "source": [
    "## Fey Dataset (LKB-PP)\n",
    "\n",
    "Configuration:"
   ]
  },
  {
   "cell_type": "code",
   "execution_count": null,
   "id": "992470f1",
   "metadata": {},
   "outputs": [],
   "source": [
    "from pathlib import Path\n",
    "\n",
    "# Path to the data file\n",
    "DATA = Path(\"projects/ni(I)-co2/other/fey.csv\")\n",
    "\n",
    "# IDs of experimentally tested ligands:\n",
    "positives = [\n",
    "    \"208\", # i-Pr-Xantphos\n",
    "    \"210\", # t-Bu-Xantphos\n",
    "    \"289\", # dtbpf\n",
    "]\n",
    "\n",
    "negatives = [\n",
    "    \"212\", # Xantphos\n",
    "    \"291\", # dppf\n",
    "    \"207\", # Me-Xantphos\n",
    "]\n",
    "\n",
    "# IDs of the positive and negative reference ligand for feature selection\n",
    "POSITIVE = \"210\"  # t-Bu-Xantphos\n",
    "NEGATIVE = \"212\"  # Xantphos"
   ]
  },
  {
   "cell_type": "markdown",
   "id": "ee74d49b",
   "metadata": {},
   "source": [
    "Workflow without feature selection:"
   ]
  },
  {
   "cell_type": "code",
   "execution_count": 2,
   "id": "ac3b23bb",
   "metadata": {},
   "outputs": [
    {
     "data": {
      "text/plain": [
       "ID\n",
       "208    0\n",
       "210    3\n",
       "289    0\n",
       "212    0\n",
       "291    0\n",
       "207    0\n",
       "Name: Cluster, dtype: int32"
      ]
     },
     "execution_count": 2,
     "metadata": {},
     "output_type": "execute_result"
    }
   ],
   "source": [
    "from sklearn.preprocessing import StandardScaler\n",
    "from sklearn.cluster import KMeans\n",
    "\n",
    "from aixchem.dataset import Dataset\n",
    "from aixchem.transform.preprocess import CorrelationAnalyzer, Scaler\n",
    "from aixchem.model.cluster import Clusterer\n",
    "from aixchem.model.optimization import Optimization\n",
    "\n",
    "# Load data\n",
    "data = Dataset(DATA, index=\"ID\", store_raw=True, sep=\";\")\n",
    "\n",
    "# Perform correlation analysis\n",
    "corr = CorrelationAnalyzer(method=\"pearson\", threshold=0.8)\n",
    "data = corr.fit(data).transform(data)\n",
    "\n",
    "# Scale dataset\n",
    "scaler = Scaler(StandardScaler)\n",
    "data = scaler.fit(data).transform(data)\n",
    "\n",
    "# Set optimization parameters \n",
    "params = {\n",
    "    \"model\": [KMeans],\n",
    "    \"random_state\": [42],\n",
    "    \"n_clusters\": list(range(2, 16)),\n",
    "    \"n_init\": [5000],\n",
    "    }\n",
    "\n",
    "# Run optimization\n",
    "opt = Optimization(obj=Clusterer, params=params)\n",
    "optimization = opt.run(data, njobs=-1)  # Table of optimization metrics at different ks\n",
    "\n",
    "# Run the clustering with optimized parameters\n",
    "kmeans = Clusterer(KMeans, n_clusters=4, random_state=42, n_init=5000)\n",
    "kmeans.fit(data)\n",
    "\n",
    "# Get clustering results and display clusters of the experimentally tested ligands\n",
    "data.raw[\"Cluster\"] = kmeans.predict(data)\n",
    "data.raw.loc[positives + negatives][\"Cluster\"]"
   ]
  },
  {
   "cell_type": "markdown",
   "id": "4efdef4a",
   "metadata": {},
   "source": [
    "Workflow with feature selection:"
   ]
  },
  {
   "cell_type": "code",
   "execution_count": 3,
   "id": "0c562de9",
   "metadata": {},
   "outputs": [
    {
     "data": {
      "text/plain": [
       "ID\n",
       "208    0\n",
       "210    0\n",
       "289    0\n",
       "212    0\n",
       "291    1\n",
       "207    1\n",
       "Name: Cluster, dtype: int32"
      ]
     },
     "execution_count": 3,
     "metadata": {},
     "output_type": "execute_result"
    }
   ],
   "source": [
    "from sklearn.preprocessing import StandardScaler\n",
    "from sklearn.cluster import KMeans\n",
    "\n",
    "from aixchem.dataset import Dataset\n",
    "from aixchem.transform.preprocess import CorrelationAnalyzer, Scaler\n",
    "from aixchem.transform.fselect import FeatureSeparation\n",
    "from aixchem.model.cluster import Clusterer\n",
    "from aixchem.model.optimization import Optimization\n",
    "\n",
    "# Load data\n",
    "data = Dataset(DATA, index=\"ID\", store_raw=True, sep=\";\")\n",
    "\n",
    "# Perform correlation analysis\n",
    "corr = CorrelationAnalyzer(method=\"pearson\", threshold=0.8)\n",
    "data = corr.fit(data).transform(data)\n",
    "\n",
    "# Perform feature selection\n",
    "fselect = FeatureSeparation()\n",
    "data = fselect.fit(data, idx=POSITIVE, idy=NEGATIVE).transform(data, threshold=0.2)  # threshold corresponds to approx. mean across all features\n",
    "\n",
    "# Scale dataset\n",
    "scaler = Scaler(StandardScaler)\n",
    "data = scaler.fit(data).transform(data)\n",
    "\n",
    "# Set optimization parameters \n",
    "params = {\n",
    "    \"model\": [KMeans],\n",
    "    \"random_state\": [42],\n",
    "    \"n_clusters\": list(range(2, 16)),\n",
    "    \"n_init\": [5000],\n",
    "    }\n",
    "\n",
    "# Run optimization\n",
    "opt = Optimization(obj=Clusterer, params=params)\n",
    "optimization = opt.run(data, njobs=-1)  # Table of optimization metrics at different ks\n",
    "\n",
    "# Run the clustering with optimized parameters\n",
    "kmeans = Clusterer(KMeans, n_clusters=4, random_state=42, n_init=5000)\n",
    "kmeans.fit(data)\n",
    "\n",
    "# Get clustering results and display clusters of the experimentally tested ligands\n",
    "data.raw[\"Cluster\"] = kmeans.predict(data)\n",
    "data.raw.loc[positives + negatives][\"Cluster\"]"
   ]
  },
  {
   "cell_type": "markdown",
   "id": "eb80a5d6",
   "metadata": {},
   "source": [
    "## Sigman Dataset\n",
    "\n",
    "Configuration:"
   ]
  },
  {
   "cell_type": "code",
   "execution_count": 4,
   "id": "e3f62eb7",
   "metadata": {},
   "outputs": [],
   "source": [
    "from pathlib import Path\n",
    "\n",
    "# Path to the data file\n",
    "DATA = Path(\"projects/ni(I)-co2/other/sigman.csv\")\n",
    "\n",
    "# IDs of experimentally tested ligands:\n",
    "positives = [\n",
    "    441, # i-Pr-Xantphos\n",
    "    468, # dtbpf\n",
    "]\n",
    "\n",
    "negatives = [\n",
    "    719, # Xantphos\n",
    "    175, # dppf\n",
    "]\n",
    "\n",
    "# IDs of the positive and negative reference ligand for feature selection\n",
    "POSITIVE = 441  # i-Pr-Xantphos (retrospective because t-Bu-Xantphos not present)\n",
    "NEGATIVE = 719  # Xantphos"
   ]
  },
  {
   "cell_type": "markdown",
   "id": "75ac1aaa",
   "metadata": {},
   "source": [
    "Workflow with feature selection:"
   ]
  },
  {
   "cell_type": "code",
   "execution_count": 5,
   "id": "0d9337ef",
   "metadata": {},
   "outputs": [
    {
     "data": {
      "text/plain": [
       "ID\n",
       "441    2\n",
       "468    2\n",
       "719    2\n",
       "175    4\n",
       "Name: Cluster, dtype: int32"
      ]
     },
     "execution_count": 5,
     "metadata": {},
     "output_type": "execute_result"
    }
   ],
   "source": [
    "from sklearn.cluster import KMeans\n",
    "from sklearn.preprocessing import StandardScaler\n",
    "\n",
    "from aixchem.dataset import Dataset\n",
    "from aixchem.transform.preprocess import CorrelationAnalyzer, Scaler\n",
    "from aixchem.model.cluster import Clusterer\n",
    "from aixchem.model.optimization import Optimization\n",
    "\n",
    "# Load data\n",
    "data = Dataset(DATA, index=\"ID\", store_raw=True, sep=\";\")\n",
    "data.drop(columns=[\"Ligand\"])\n",
    "\n",
    "# Perform correlation analysis\n",
    "corr = CorrelationAnalyzer(method=\"pearson\", threshold=0.8)\n",
    "data = corr.fit(data).transform(data)\n",
    "\n",
    "# Scale dataset\n",
    "scaler = Scaler(StandardScaler)\n",
    "data = scaler.fit(data).transform(data)\n",
    "\n",
    "# Set optimization parameters \n",
    "params = {\n",
    "    \"model\": [KMeans],\n",
    "    \"random_state\": [42],\n",
    "    \"n_clusters\": list(range(2, 16)),\n",
    "    \"n_init\": [500],\n",
    "    }\n",
    "\n",
    "# Run optimization\n",
    "opt = Optimization(obj=Clusterer, params=params)\n",
    "optimization = opt.run(data, njobs=-1)  # Table of optimization metrics at different ks\n",
    "\n",
    "# Run the clustering with optimized parameters\n",
    "kmeans = Clusterer(KMeans, n_clusters=6, random_state=42, n_init=500)\n",
    "kmeans.fit(data)\n",
    "\n",
    "# Get clustering results and display clusters of the experimentally tested ligands\n",
    "data.raw[\"Cluster\"] = kmeans.predict(data)\n",
    "data.raw.loc[positives + negatives][\"Cluster\"]"
   ]
  },
  {
   "cell_type": "code",
   "execution_count": 6,
   "id": "d5314b64",
   "metadata": {},
   "outputs": [
    {
     "data": {
      "text/plain": [
       "ID\n",
       "441    2\n",
       "468    2\n",
       "719    2\n",
       "175    1\n",
       "Name: Cluster, dtype: int32"
      ]
     },
     "execution_count": 6,
     "metadata": {},
     "output_type": "execute_result"
    }
   ],
   "source": [
    "from sklearn.cluster import KMeans\n",
    "from sklearn.preprocessing import StandardScaler\n",
    "\n",
    "from aixchem.dataset import Dataset\n",
    "from aixchem.transform.preprocess import CorrelationAnalyzer, Scaler\n",
    "from aixchem.transform.fselect import FeatureSeparation\n",
    "from aixchem.model.cluster import Clusterer\n",
    "from aixchem.model.optimization import Optimization\n",
    "\n",
    "# Load data\n",
    "data = Dataset(DATA, index=\"ID\", store_raw=True, sep=\";\")\n",
    "data.drop(columns=[\"Ligand\"])\n",
    "\n",
    "# Perform correlation analysis\n",
    "corr = CorrelationAnalyzer(method=\"pearson\", threshold=0.8)\n",
    "data = corr.fit(data).transform(data)\n",
    "\n",
    "# Perform feature selection\n",
    "fselect = FeatureSeparation()\n",
    "data = fselect.fit(data, idx=POSITIVE, idy=NEGATIVE).transform(data, threshold=0.15)  # threshold corresponds to approx. mean across all \n",
    "\n",
    "# Scale dataset\n",
    "scaler = Scaler(StandardScaler)\n",
    "data = scaler.fit(data).transform(data)\n",
    "\n",
    "# Set optimization parameters \n",
    "params = {\n",
    "    \"model\": [KMeans],\n",
    "    \"random_state\": [42],\n",
    "    \"n_clusters\": list(range(2, 16)),\n",
    "    \"n_init\": [500],\n",
    "    }\n",
    "\n",
    "# Run optimization\n",
    "opt = Optimization(obj=Clusterer, params=params)\n",
    "optimization = opt.run(data, njobs=-1)  # Table of optimization metrics at different ks\n",
    "\n",
    "# Run the clustering with optimized parameters\n",
    "kmeans = Clusterer(KMeans, n_clusters=4, random_state=42, n_init=500)\n",
    "kmeans.fit(data)\n",
    "\n",
    "# Get clustering results and display clusters of the experimentally tested ligands\n",
    "data.raw[\"Cluster\"] = kmeans.predict(data)\n",
    "data.raw.loc[positives + negatives][\"Cluster\"]"
   ]
  }
 ],
 "metadata": {
  "kernelspec": {
   "display_name": "aixchem",
   "language": "python",
   "name": "python3"
  },
  "language_info": {
   "codemirror_mode": {
    "name": "ipython",
    "version": 3
   },
   "file_extension": ".py",
   "mimetype": "text/x-python",
   "name": "python",
   "nbconvert_exporter": "python",
   "pygments_lexer": "ipython3",
   "version": "3.12.2"
  }
 },
 "nbformat": 4,
 "nbformat_minor": 5
}
